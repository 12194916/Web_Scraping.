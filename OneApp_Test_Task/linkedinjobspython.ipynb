{
 "cells": [
  {
   "cell_type": "code",
   "execution_count": 796,
   "metadata": {},
   "outputs": [],
   "source": [
    "from selenium import webdriver\n",
    "import time\n",
    "import pandas as pd\n",
    "import os"
   ]
  },
  {
   "cell_type": "code",
   "execution_count": 797,
   "metadata": {},
   "outputs": [],
   "source": [
    "from selenium.webdriver.support.select import Select\n",
    "from selenium.webdriver.support.ui import WebDriverWait\n",
    "from selenium.webdriver.common.by import By\n",
    "from selenium.webdriver.support import expected_conditions as EC\n",
    "from selenium.webdriver.common.keys import Keys\n",
    "from selenium.webdriver.common.action_chains import ActionChains"
   ]
  },
  {
   "cell_type": "code",
   "execution_count": 798,
   "metadata": {},
   "outputs": [],
   "source": [
    "#Use this Url and change city or role accordingly\n",
    "\n",
    "url1=\"https://www.linkedin.com/jobs/search?keywords=software%20&location=uzbekistan&geoId=&trk=public_jobs_jobs-search-bar_search-submit&position=1&pageNum=0\""
   ]
  },
  {
   "cell_type": "code",
   "execution_count": 799,
   "metadata": {
    "scrolled": true
   },
   "outputs": [
    {
     "name": "stderr",
     "output_type": "stream",
     "text": [
      "C:\\Users\\Muhammadyusuf\\AppData\\Local\\Temp\\ipykernel_748\\1517794196.py:3: DeprecationWarning: executable_path has been deprecated, please pass in a Service object\n",
      "  driver = webdriver.Chrome(executable_path='C:/Users/Muhammadyusuf/chromedriver.exe')\n"
     ]
    }
   ],
   "source": [
    "#Load the web driver and get the url\n",
    "\n",
    "driver = webdriver.Chrome(executable_path='C:/Users/Muhammadyusuf/chromedriver.exe')\n",
    "driver.implicitly_wait(10)\n",
    "driver.get(url1)"
   ]
  },
  {
   "cell_type": "code",
   "execution_count": 800,
   "metadata": {},
   "outputs": [],
   "source": [
    "# #Loop to scroll through all jobs and click on see more jobs button for infinite scrolling\n",
    "\n",
    "# i = 2\n",
    "# while i <= int((n+200)/25)+1: \n",
    "#     driver.execute_script(\"window.scrollTo(0, document.body.scrollHeight);\")\n",
    "#     i = i + 1\n",
    "    \n",
    "    \n",
    "#     try:\n",
    "#         send=driver.find_element_by_xpath(\"//button[@aria-label='Load more results']\")\n",
    "#         driver.execute_script(\"arguments[0].click();\", send)   \n",
    "#         time.sleep(3)\n",
    "    \n",
    "        \n",
    "#         buu=driver.find_elements_by_tag_name(\"button\")\n",
    "#         x=[btn for btn in buu if btn.text==\"See all jobs\"]\n",
    "#         for btn in x:\n",
    "#             driver.execute_script(\"arguments[0].click();\", btn)\n",
    "#             time.sleep(3)\n",
    "        \n",
    "                                                 \n",
    "\n",
    "\n",
    "            \n",
    "#     except:\n",
    "#         pass\n",
    "#         time.sleep(5)\n",
    "         "
   ]
  },
  {
   "cell_type": "code",
   "execution_count": 801,
   "metadata": {},
   "outputs": [],
   "source": [
    "#Find number of job listings\n",
    "y = driver.find_elements(By.CLASS_NAME, 'results-context-header__job-count')[0].text"
   ]
  },
  {
   "cell_type": "code",
   "execution_count": 802,
   "metadata": {},
   "outputs": [
    {
     "data": {
      "text/plain": [
       "str"
      ]
     },
     "execution_count": 802,
     "metadata": {},
     "output_type": "execute_result"
    }
   ],
   "source": [
    "type(y)"
   ]
  },
  {
   "cell_type": "code",
   "execution_count": 803,
   "metadata": {},
   "outputs": [
    {
     "data": {
      "text/plain": [
       "'116'"
      ]
     },
     "execution_count": 803,
     "metadata": {},
     "output_type": "execute_result"
    }
   ],
   "source": [
    "y"
   ]
  },
  {
   "cell_type": "code",
   "execution_count": 804,
   "metadata": {},
   "outputs": [],
   "source": [
    "value_str = y.replace(\",\", \"\").replace(\"+\", \"\")\n",
    "n = int(value_str)"
   ]
  },
  {
   "cell_type": "code",
   "execution_count": 805,
   "metadata": {},
   "outputs": [
    {
     "data": {
      "text/plain": [
       "116"
      ]
     },
     "execution_count": 805,
     "metadata": {},
     "output_type": "execute_result"
    }
   ],
   "source": [
    "n"
   ]
  },
  {
   "cell_type": "code",
   "execution_count": 806,
   "metadata": {},
   "outputs": [],
   "source": [
    "#Create empty lists for company name and job title\n",
    "companyname= []\n",
    "titlename= []"
   ]
  },
  {
   "cell_type": "code",
   "execution_count": 807,
   "metadata": {},
   "outputs": [],
   "source": [
    "#Find company name and append it to the blank list\n",
    "elements = driver.find_elements(By.CLASS_NAME, 'base-search-card__subtitle')\n",
    "for element in elements:\n",
    "    companyname.append(element.text)"
   ]
  },
  {
   "cell_type": "code",
   "execution_count": 808,
   "metadata": {},
   "outputs": [],
   "source": [
    "#Find title name and append it to the blank list\n",
    "elements = driver.find_elements(By.CLASS_NAME, 'base-search-card__title')\n",
    "for element in elements:\n",
    "    titlename.append(element.text)"
   ]
  },
  {
   "cell_type": "code",
   "execution_count": 809,
   "metadata": {
    "scrolled": false
   },
   "outputs": [],
   "source": [
    "from selenium.common.exceptions import TimeoutException\n",
    "import time\n",
    "import re\n",
    "\n",
    "requirements_list=[]\n",
    "years=[]\n",
    "locations=[]\n",
    "description=[]\n",
    "\n",
    "for element in elements:\n",
    "    try:\n",
    "        # Click on the job title\n",
    "        actions = ActionChains(driver)\n",
    "        actions.move_to_element(element).click().perform()\n",
    "\n",
    "        # Wait for job description to load\n",
    "        time.sleep(2)\n",
    "        \n",
    "        from bs4 import BeautifulSoup\n",
    "\n",
    "        # Get the page source\n",
    "        page_source = driver.page_source\n",
    "\n",
    "        # Create a BeautifulSoup object\n",
    "        soup = BeautifulSoup(page_source, 'html.parser')\n",
    "\n",
    "        # Find the requirements section\n",
    "        sections = ['Requirements:', 'Required Skills:', 'Responsibilities:', 'What You’ll Need', 'What You Have', 'Qualifications:', 'Experience:', 'Essential Skills:', 'Desired Skills:', 'Education:', 'Certifications:', 'Technical Skills:', 'Soft Skills:', 'Abilities:']\n",
    "\n",
    "        requirements_section = None\n",
    "        for synonym in synonyms:\n",
    "            requirements_section = soup.find('strong', text=synonym)\n",
    "            if requirements_section:\n",
    "                requirements_section = requirements_section.find_next('ul')\n",
    "                break\n",
    "\n",
    "        # Extract the requirements text\n",
    "        if requirements_section:\n",
    "            requirements = '\\n'.join([li.text for li in requirements_section.find_all('li')])\n",
    "            #print(requirements)\n",
    "            requirements_list.append(requirements)\n",
    "            \n",
    "            pattern1 = r\"(\\d+)[\\s-]*((?:to)?[\\s-]*\\d+)?[\\s-]*(?:years?|yrs?)\"\n",
    "            pattern2 = r'\\b\\d+[\\s+-]*(?:to)?[\\s+-]*\\d*\\b|\\b\\ds*\\+\\b|\\b(?:more than|over)\\s*\\d+\\b'\n",
    "\n",
    "            match1 = re.search(pattern1, requirements)\n",
    "            match2 = re.search(pattern2, requirements)\n",
    "\n",
    "            if match1 or match2:\n",
    "                years_of_experience = match1.group(0) if match1 else match2.group(0)\n",
    "                #print(years_of_experience)\n",
    "                years.append(years_of_experience)\n",
    "            else:\n",
    "                #print(\"No years of experience found.\")\n",
    "                years.append(\"Not mentioned.\")\n",
    "        else:\n",
    "            #print('No requirements found.')\n",
    "            requirements_list.append(\"Could not find requirements.\")\n",
    "            years.append(\"Not mentioned.\")\n",
    "        \n",
    "        \n",
    "        location_element = soup.find('span', {'class': 'topcard__flavor topcard__flavor--bullet'})\n",
    "        location = location_element.get_text(strip=True)\n",
    "        locations.append(location) \n",
    "       \n",
    "\n",
    "\n",
    "\n",
    "        # Switch back to the main content\n",
    "        driver.switch_to.default_content()\n",
    "\n",
    "\n",
    "\n",
    "        # Scroll down to the next job title\n",
    "        actions = ActionChains(driver)\n",
    "        actions.move_to_element(element).send_keys(Keys.DOWN).perform()\n",
    "\n",
    "        # Wait for the next job title to load before proceeding\n",
    "        WebDriverWait(driver, 10).until(EC.presence_of_element_located((By.CLASS_NAME, 'base-search-card__title')))\n",
    "\n",
    "    except (TimeoutException, NoSuchElementException) as e:\n",
    "        print(f\"Encountered error: {e}\")\n",
    "        # Continue to the next job title if there is an error\n",
    "        continue\n"
   ]
  },
  {
   "cell_type": "code",
   "execution_count": 810,
   "metadata": {},
   "outputs": [],
   "source": [
    "data = {\n",
    "    'Company Name': companyname,\n",
    "    'Job Name': titlename,\n",
    "    'Job Location':locations,\n",
    "    'Years of Experience Required': years,\n",
    "    'Requirements': requirements_list\n",
    "}\n",
    "df = pd.DataFrame(data, index=range(1, len(companyname) + 1))"
   ]
  },
  {
   "cell_type": "code",
   "execution_count": 811,
   "metadata": {},
   "outputs": [
    {
     "data": {
      "text/plain": [
       "25"
      ]
     },
     "execution_count": 811,
     "metadata": {},
     "output_type": "execute_result"
    }
   ],
   "source": [
    "len(df)"
   ]
  },
  {
   "cell_type": "code",
   "execution_count": 812,
   "metadata": {},
   "outputs": [
    {
     "data": {
      "text/plain": [
       "Not mentioned.    12\n",
       "1+                12\n",
       "5+                 1\n",
       "Name: Years of Experience Required, dtype: int64"
      ]
     },
     "execution_count": 812,
     "metadata": {},
     "output_type": "execute_result"
    }
   ],
   "source": [
    "df['Years of Experience Required'].value_counts()"
   ]
  },
  {
   "cell_type": "code",
   "execution_count": 813,
   "metadata": {},
   "outputs": [
    {
     "data": {
      "text/html": [
       "<div>\n",
       "<style scoped>\n",
       "    .dataframe tbody tr th:only-of-type {\n",
       "        vertical-align: middle;\n",
       "    }\n",
       "\n",
       "    .dataframe tbody tr th {\n",
       "        vertical-align: top;\n",
       "    }\n",
       "\n",
       "    .dataframe thead th {\n",
       "        text-align: right;\n",
       "    }\n",
       "</style>\n",
       "<table border=\"1\" class=\"dataframe\">\n",
       "  <thead>\n",
       "    <tr style=\"text-align: right;\">\n",
       "      <th></th>\n",
       "      <th>Company Name</th>\n",
       "      <th>Job Name</th>\n",
       "      <th>Job Location</th>\n",
       "      <th>Years of Experience Required</th>\n",
       "      <th>Requirements</th>\n",
       "    </tr>\n",
       "  </thead>\n",
       "  <tbody>\n",
       "    <tr>\n",
       "      <th>1</th>\n",
       "      <td>ICAS Technology (S) Pte Ltd</td>\n",
       "      <td>Software Developer</td>\n",
       "      <td>Surxondaryo Region, Uzbekistan</td>\n",
       "      <td>Not mentioned.</td>\n",
       "      <td>Could not find requirements.</td>\n",
       "    </tr>\n",
       "    <tr>\n",
       "      <th>2</th>\n",
       "      <td>AppCake</td>\n",
       "      <td>HTML5 Developer</td>\n",
       "      <td>Surxondaryo Region, Uzbekistan</td>\n",
       "      <td>Not mentioned.</td>\n",
       "      <td>Could not find requirements.</td>\n",
       "    </tr>\n",
       "    <tr>\n",
       "      <th>3</th>\n",
       "      <td>AppCake</td>\n",
       "      <td>Backend Developer</td>\n",
       "      <td>Surxondaryo Region, Uzbekistan</td>\n",
       "      <td>Not mentioned.</td>\n",
       "      <td>Could not find requirements.</td>\n",
       "    </tr>\n",
       "    <tr>\n",
       "      <th>4</th>\n",
       "      <td>DSR Corporation</td>\n",
       "      <td>Front-End Software Engineer (UZ)</td>\n",
       "      <td>Surxondaryo Region, Uzbekistan</td>\n",
       "      <td>Not mentioned.</td>\n",
       "      <td>Could not find requirements.</td>\n",
       "    </tr>\n",
       "    <tr>\n",
       "      <th>5</th>\n",
       "      <td>AppCake</td>\n",
       "      <td>Back-end Developer</td>\n",
       "      <td>Surxondaryo Region, Uzbekistan</td>\n",
       "      <td>Not mentioned.</td>\n",
       "      <td>Could not find requirements.</td>\n",
       "    </tr>\n",
       "    <tr>\n",
       "      <th>6</th>\n",
       "      <td>AppCake</td>\n",
       "      <td>HTML Developer with Experience in Playable Ads</td>\n",
       "      <td>Surxondaryo Region, Uzbekistan</td>\n",
       "      <td>Not mentioned.</td>\n",
       "      <td>Could not find requirements.</td>\n",
       "    </tr>\n",
       "    <tr>\n",
       "      <th>7</th>\n",
       "      <td>DSR Corporation</td>\n",
       "      <td>Java Windows Software Engineer (UZ)</td>\n",
       "      <td>Tashkent, Tashkent, Uzbekistan</td>\n",
       "      <td>1+</td>\n",
       "      <td>1+ year of professional, relevant experience\\n...</td>\n",
       "    </tr>\n",
       "    <tr>\n",
       "      <th>8</th>\n",
       "      <td>DSR Corporation</td>\n",
       "      <td>Embedded Systems Software Engineer (UZ)</td>\n",
       "      <td>Tashkent, Tashkent, Uzbekistan</td>\n",
       "      <td>1+</td>\n",
       "      <td>1+ year of professional, relevant experience\\n...</td>\n",
       "    </tr>\n",
       "    <tr>\n",
       "      <th>9</th>\n",
       "      <td>Tashkent University of Information Technologie...</td>\n",
       "      <td>Full stack developer</td>\n",
       "      <td>Tashkent, Tashkent, Uzbekistan</td>\n",
       "      <td>1+</td>\n",
       "      <td>1+ year of professional, relevant experience\\n...</td>\n",
       "    </tr>\n",
       "    <tr>\n",
       "      <th>10</th>\n",
       "      <td>DSR Corporation</td>\n",
       "      <td>C/C++ Linux Software Engineer (UZ)</td>\n",
       "      <td>Tashkent, Tashkent, Uzbekistan</td>\n",
       "      <td>1+</td>\n",
       "      <td>1+ year of professional, relevant experience\\n...</td>\n",
       "    </tr>\n",
       "    <tr>\n",
       "      <th>11</th>\n",
       "      <td>DSR Corporation</td>\n",
       "      <td>Application Software QA Engineer (UZ)</td>\n",
       "      <td>Tashkent, Tashkent, Uzbekistan</td>\n",
       "      <td>1+</td>\n",
       "      <td>1+ year of professional, relevant experience\\n...</td>\n",
       "    </tr>\n",
       "    <tr>\n",
       "      <th>12</th>\n",
       "      <td>DSR Corporation</td>\n",
       "      <td>C++ Windows Software Engineer (UZ)</td>\n",
       "      <td>Tashkent, Tashkent, Uzbekistan</td>\n",
       "      <td>1+</td>\n",
       "      <td>1+ year of professional, relevant experience\\n...</td>\n",
       "    </tr>\n",
       "    <tr>\n",
       "      <th>13</th>\n",
       "      <td>AppCake</td>\n",
       "      <td>HTML5 Playable Ads Developer</td>\n",
       "      <td>Tashkent, Tashkent, Uzbekistan</td>\n",
       "      <td>1+</td>\n",
       "      <td>1+ year of professional, relevant experience\\n...</td>\n",
       "    </tr>\n",
       "    <tr>\n",
       "      <th>14</th>\n",
       "      <td>DSR Corporation</td>\n",
       "      <td>Application Software QA Automation Engineer (UZ)</td>\n",
       "      <td>Tashkent, Tashkent, Uzbekistan</td>\n",
       "      <td>1+</td>\n",
       "      <td>1+ year of professional, relevant experience\\n...</td>\n",
       "    </tr>\n",
       "    <tr>\n",
       "      <th>15</th>\n",
       "      <td>DSR Corporation</td>\n",
       "      <td>Android / Flutter Software Engineer (UZ)</td>\n",
       "      <td>Tashkent, Tashkent, Uzbekistan</td>\n",
       "      <td>1+</td>\n",
       "      <td>1+ years of experience developing mobile appli...</td>\n",
       "    </tr>\n",
       "    <tr>\n",
       "      <th>16</th>\n",
       "      <td>AppCake</td>\n",
       "      <td>HTML5 Playable Ads Developer</td>\n",
       "      <td>Surxondaryo Region, Uzbekistan</td>\n",
       "      <td>Not mentioned.</td>\n",
       "      <td>Could not find requirements.</td>\n",
       "    </tr>\n",
       "    <tr>\n",
       "      <th>17</th>\n",
       "      <td>DSR Corporation</td>\n",
       "      <td>DevOps Engineer (UZ)</td>\n",
       "      <td>Tashkent, Tashkent, Uzbekistan</td>\n",
       "      <td>1+</td>\n",
       "      <td>1+ year of professional, relevant experience\\n...</td>\n",
       "    </tr>\n",
       "    <tr>\n",
       "      <th>18</th>\n",
       "      <td>New Uzbekistan University</td>\n",
       "      <td>Assistant/Associate/Full Professor in Mechanic...</td>\n",
       "      <td>Tashkent, Tashkent, Uzbekistan</td>\n",
       "      <td>1+</td>\n",
       "      <td>1+ year of professional, relevant experience\\n...</td>\n",
       "    </tr>\n",
       "    <tr>\n",
       "      <th>19</th>\n",
       "      <td>DSR Corporation</td>\n",
       "      <td>iOS / Flutter Software Engineer (UZ)</td>\n",
       "      <td>Tashkent, Tashkent, Uzbekistan</td>\n",
       "      <td>1+</td>\n",
       "      <td>1+ year of professional, relevant experience\\n...</td>\n",
       "    </tr>\n",
       "    <tr>\n",
       "      <th>20</th>\n",
       "      <td>Snaphyre</td>\n",
       "      <td>Full Stack Engineer (VueJS/NodeJS)</td>\n",
       "      <td>Surxondaryo Region, Uzbekistan</td>\n",
       "      <td>Not mentioned.</td>\n",
       "      <td>Could not find requirements.</td>\n",
       "    </tr>\n",
       "    <tr>\n",
       "      <th>21</th>\n",
       "      <td>New Uzbekistan University</td>\n",
       "      <td>Assistant/Associate/Full Professor in Mechanic...</td>\n",
       "      <td>Uzbekistan</td>\n",
       "      <td>Not mentioned.</td>\n",
       "      <td>Could not find requirements.</td>\n",
       "    </tr>\n",
       "    <tr>\n",
       "      <th>22</th>\n",
       "      <td>DSR Corporation</td>\n",
       "      <td>Lead Software QA Automation Engineer (UZ)</td>\n",
       "      <td>Tashkent, Tashkent, Uzbekistan</td>\n",
       "      <td>5+</td>\n",
       "      <td>5+ years of relevant professional experience\\n...</td>\n",
       "    </tr>\n",
       "    <tr>\n",
       "      <th>23</th>\n",
       "      <td>New Uzbekistan University</td>\n",
       "      <td>Assistant/Associate/Full Professor in Electric...</td>\n",
       "      <td>Uzbekistan</td>\n",
       "      <td>Not mentioned.</td>\n",
       "      <td>Could not find requirements.</td>\n",
       "    </tr>\n",
       "    <tr>\n",
       "      <th>24</th>\n",
       "      <td>SupportYourApp</td>\n",
       "      <td>(Uzbekistan) Customer Support Consultant (flue...</td>\n",
       "      <td>Uzbekistan</td>\n",
       "      <td>Not mentioned.</td>\n",
       "      <td>Could not find requirements.</td>\n",
       "    </tr>\n",
       "    <tr>\n",
       "      <th>25</th>\n",
       "      <td>Antal International</td>\n",
       "      <td>BI analyst</td>\n",
       "      <td>Uzbekistan</td>\n",
       "      <td>Not mentioned.</td>\n",
       "      <td>Could not find requirements.</td>\n",
       "    </tr>\n",
       "  </tbody>\n",
       "</table>\n",
       "</div>"
      ],
      "text/plain": [
       "                                         Company Name  \\\n",
       "1                         ICAS Technology (S) Pte Ltd   \n",
       "2                                             AppCake   \n",
       "3                                             AppCake   \n",
       "4                                     DSR Corporation   \n",
       "5                                             AppCake   \n",
       "6                                             AppCake   \n",
       "7                                     DSR Corporation   \n",
       "8                                     DSR Corporation   \n",
       "9   Tashkent University of Information Technologie...   \n",
       "10                                    DSR Corporation   \n",
       "11                                    DSR Corporation   \n",
       "12                                    DSR Corporation   \n",
       "13                                            AppCake   \n",
       "14                                    DSR Corporation   \n",
       "15                                    DSR Corporation   \n",
       "16                                            AppCake   \n",
       "17                                    DSR Corporation   \n",
       "18                          New Uzbekistan University   \n",
       "19                                    DSR Corporation   \n",
       "20                                           Snaphyre   \n",
       "21                          New Uzbekistan University   \n",
       "22                                    DSR Corporation   \n",
       "23                          New Uzbekistan University   \n",
       "24                                     SupportYourApp   \n",
       "25                                Antal International   \n",
       "\n",
       "                                             Job Name  \\\n",
       "1                                  Software Developer   \n",
       "2                                     HTML5 Developer   \n",
       "3                                   Backend Developer   \n",
       "4                    Front-End Software Engineer (UZ)   \n",
       "5                                  Back-end Developer   \n",
       "6      HTML Developer with Experience in Playable Ads   \n",
       "7                 Java Windows Software Engineer (UZ)   \n",
       "8             Embedded Systems Software Engineer (UZ)   \n",
       "9                                Full stack developer   \n",
       "10                 C/C++ Linux Software Engineer (UZ)   \n",
       "11              Application Software QA Engineer (UZ)   \n",
       "12                 C++ Windows Software Engineer (UZ)   \n",
       "13                       HTML5 Playable Ads Developer   \n",
       "14   Application Software QA Automation Engineer (UZ)   \n",
       "15           Android / Flutter Software Engineer (UZ)   \n",
       "16                       HTML5 Playable Ads Developer   \n",
       "17                               DevOps Engineer (UZ)   \n",
       "18  Assistant/Associate/Full Professor in Mechanic...   \n",
       "19               iOS / Flutter Software Engineer (UZ)   \n",
       "20                 Full Stack Engineer (VueJS/NodeJS)   \n",
       "21  Assistant/Associate/Full Professor in Mechanic...   \n",
       "22          Lead Software QA Automation Engineer (UZ)   \n",
       "23  Assistant/Associate/Full Professor in Electric...   \n",
       "24  (Uzbekistan) Customer Support Consultant (flue...   \n",
       "25                                         BI analyst   \n",
       "\n",
       "                      Job Location Years of Experience Required  \\\n",
       "1   Surxondaryo Region, Uzbekistan               Not mentioned.   \n",
       "2   Surxondaryo Region, Uzbekistan               Not mentioned.   \n",
       "3   Surxondaryo Region, Uzbekistan               Not mentioned.   \n",
       "4   Surxondaryo Region, Uzbekistan               Not mentioned.   \n",
       "5   Surxondaryo Region, Uzbekistan               Not mentioned.   \n",
       "6   Surxondaryo Region, Uzbekistan               Not mentioned.   \n",
       "7   Tashkent, Tashkent, Uzbekistan                          1+    \n",
       "8   Tashkent, Tashkent, Uzbekistan                          1+    \n",
       "9   Tashkent, Tashkent, Uzbekistan                          1+    \n",
       "10  Tashkent, Tashkent, Uzbekistan                          1+    \n",
       "11  Tashkent, Tashkent, Uzbekistan                          1+    \n",
       "12  Tashkent, Tashkent, Uzbekistan                          1+    \n",
       "13  Tashkent, Tashkent, Uzbekistan                          1+    \n",
       "14  Tashkent, Tashkent, Uzbekistan                          1+    \n",
       "15  Tashkent, Tashkent, Uzbekistan                          1+    \n",
       "16  Surxondaryo Region, Uzbekistan               Not mentioned.   \n",
       "17  Tashkent, Tashkent, Uzbekistan                          1+    \n",
       "18  Tashkent, Tashkent, Uzbekistan                          1+    \n",
       "19  Tashkent, Tashkent, Uzbekistan                          1+    \n",
       "20  Surxondaryo Region, Uzbekistan               Not mentioned.   \n",
       "21                      Uzbekistan               Not mentioned.   \n",
       "22  Tashkent, Tashkent, Uzbekistan                          5+    \n",
       "23                      Uzbekistan               Not mentioned.   \n",
       "24                      Uzbekistan               Not mentioned.   \n",
       "25                      Uzbekistan               Not mentioned.   \n",
       "\n",
       "                                         Requirements  \n",
       "1                        Could not find requirements.  \n",
       "2                        Could not find requirements.  \n",
       "3                        Could not find requirements.  \n",
       "4                        Could not find requirements.  \n",
       "5                        Could not find requirements.  \n",
       "6                        Could not find requirements.  \n",
       "7   1+ year of professional, relevant experience\\n...  \n",
       "8   1+ year of professional, relevant experience\\n...  \n",
       "9   1+ year of professional, relevant experience\\n...  \n",
       "10  1+ year of professional, relevant experience\\n...  \n",
       "11  1+ year of professional, relevant experience\\n...  \n",
       "12  1+ year of professional, relevant experience\\n...  \n",
       "13  1+ year of professional, relevant experience\\n...  \n",
       "14  1+ year of professional, relevant experience\\n...  \n",
       "15  1+ years of experience developing mobile appli...  \n",
       "16                       Could not find requirements.  \n",
       "17  1+ year of professional, relevant experience\\n...  \n",
       "18  1+ year of professional, relevant experience\\n...  \n",
       "19  1+ year of professional, relevant experience\\n...  \n",
       "20                       Could not find requirements.  \n",
       "21                       Could not find requirements.  \n",
       "22  5+ years of relevant professional experience\\n...  \n",
       "23                       Could not find requirements.  \n",
       "24                       Could not find requirements.  \n",
       "25                       Could not find requirements.  "
      ]
     },
     "execution_count": 813,
     "metadata": {},
     "output_type": "execute_result"
    }
   ],
   "source": [
    "df"
   ]
  },
  {
   "cell_type": "code",
   "execution_count": 814,
   "metadata": {},
   "outputs": [],
   "source": [
    "#Save file in your directory\n",
    "x.to_csv('linkedin_jobs.csv')"
   ]
  },
  {
   "cell_type": "code",
   "execution_count": 815,
   "metadata": {},
   "outputs": [],
   "source": [
    "#IF NEEDED YOU CAN ADD THE LINK AS WELL.\n",
    "# #Find job links and append it to a list\n",
    "\n",
    "# jobList = driver.find_elements_by_class_name('base-card__full-link')\n",
    "# hrefList = []\n",
    "# for e in jobList:\n",
    "#     hrefList.append(e.get_attribute('href'))\n",
    "\n",
    "# #for href in hrefList:\n",
    "#     #link.append(href)\n",
    "    "
   ]
  },
  {
   "cell_type": "code",
   "execution_count": 816,
   "metadata": {},
   "outputs": [],
   "source": [
    "#Close the driver\n",
    "driver.close()"
   ]
  }
 ],
 "metadata": {
  "kernelspec": {
   "display_name": "Python 3 (ipykernel)",
   "language": "python",
   "name": "python3"
  },
  "language_info": {
   "codemirror_mode": {
    "name": "ipython",
    "version": 3
   },
   "file_extension": ".py",
   "mimetype": "text/x-python",
   "name": "python",
   "nbconvert_exporter": "python",
   "pygments_lexer": "ipython3",
   "version": "3.9.13"
  }
 },
 "nbformat": 4,
 "nbformat_minor": 4
}
